{
 "cells": [
  {
   "cell_type": "markdown",
   "metadata": {},
   "source": [
    "# Building the training dataset from video"
   ]
  },
  {
   "cell_type": "markdown",
   "metadata": {},
   "source": [
    "On your Raspberry Pi, record a 20 second video showing the Evian bottle in various positions. Repeat the process for \"coke\" and \"valser\".\n",
    "\n",
    "```\n",
    "raspivid -o evian.h264 -t 20000\n",
    "```\n",
    "\n",
    "Now copy the H264 files from your Raspberry Pi to your DSVM, at path */data/drinks/raw*."
   ]
  },
  {
   "cell_type": "markdown",
   "metadata": {},
   "source": [
    "Now we use ffmpeg to extract a frame every 0.1s from each video, to generate a training set. Then we move 20% of the images from the training to the validation set."
   ]
  },
  {
   "cell_type": "code",
   "execution_count": 33,
   "metadata": {
    "collapsed": false
   },
   "outputs": [
    {
     "name": "stderr",
     "output_type": "stream",
     "text": [
      "[h264 @ 0xa05100] Stream #0: not enough frames to estimate rate; consider increasing probesize\n",
      "[swscaler @ 0xa22820] deprecated pixel format used, make sure you did set range correctly\n",
      "[swscaler @ 0x1b1d820] deprecated pixel format used, make sure you did set range correctly\n",
      "[swscaler @ 0x1860820] deprecated pixel format used, make sure you did set range correctly\n"
     ]
    }
   ],
   "source": [
    "%%bash\n",
    "path=/data/drinks\n",
    "rm -r $path/train $path/valid\n",
    "validPercent=20\n",
    "for dataset in coke evian valser; do\n",
    "    mkdir -p  $path/train/$dataset $path/valid/$dataset\n",
    "    ffmpeg -loglevel warning -i $path/raw/$dataset.h264 -vf fps=10 $path/train/$dataset/img%03d.jpg\n",
    "    numfiles=$(ls -1q $path/train/$dataset/*.jpg | wc -l)\n",
    "    num=$(expr $numfiles '*' $validPercent / 100)\n",
    "    shuf -n $num -e $path/train/$dataset/*.jpg | xargs -i mv {} $path/valid/$dataset/\n",
    "done\n",
    "\n"
   ]
  },
  {
   "cell_type": "markdown",
   "metadata": {},
   "source": [
    "Now we have under /data/drinks/train and /data/drinks/valid, training and validation datasets in the structure expected by Keras to generate batches."
   ]
  }
 ],
 "metadata": {
  "kernelspec": {
   "display_name": "Python 3",
   "language": "python",
   "name": "python3"
  },
  "language_info": {
   "codemirror_mode": {
    "name": "ipython",
    "version": 3
   },
   "file_extension": ".py",
   "mimetype": "text/x-python",
   "name": "python",
   "nbconvert_exporter": "python",
   "pygments_lexer": "ipython3",
   "version": "3.5.2"
  }
 },
 "nbformat": 4,
 "nbformat_minor": 2
}
